{
 "cells": [
  {
   "cell_type": "markdown",
   "id": "498731c6",
   "metadata": {},
   "source": [
    "# Actividad - Trabajando con Series de Pandas.\n",
    "## Criterios de evaluación.\n",
    "\n",
    "* Se deben utilizar nombres de variables descriptivos y claros (Utilizar la nomeclatura correspondiente para los nombres de variables).\n",
    "* Comentarios claros y concisos que expliquen el propósito de cada sección del código.\n",
    "* Utilizar mensajes de commit **descriptivos**. (Puedes utilizar la extension CONVENTIONAL COMMIT de VS-CODE). \n",
    "* Entrega en tiempo y forma.\n",
    "* Todo el código desarrollado debe ser subido a un repositorio en GitHub (el nombre del repositorio de seguir la siguiente estructura: actividad_tlp3_nombre_apellido).\n",
    "* Para resolver las actividades se debe insertar casillas de codigo entre cada actividad del cuaderno de Jupyter\n",
    "\n",
    "### ¡Importante!\n",
    "**El incumplimiento de los criterios de evaluación restará puntos en la nota final del práctico!**"
   ]
  },
  {
   "cell_type": "markdown",
   "id": "b361a7b6",
   "metadata": {},
   "source": [
    "### **Actividad 1:** \n",
    "\n",
    "Crear Series desde diferentes estructuras.\n",
    "* Crea una Series con los números del 1 al 5\n",
    "* Crea una Series a partir de un diccionario con nombres de países como claves y sus capitales como valores."
   ]
  },
  {
   "cell_type": "code",
   "execution_count": null,
   "id": "26009294",
   "metadata": {},
   "outputs": [
    {
     "name": "stdout",
     "output_type": "stream",
     "text": [
      "0    1\n",
      "1    2\n",
      "2    3\n",
      "3    4\n",
      "4    5\n",
      "dtype: int64\n",
      "Index(['Argentina', 'Colombia', 'Chile', 'Perú', 'Venezuela', 'Paraguay',\n",
      "       'Uruguay', 'Bolivia', 'Ecuador', 'Brasil'],\n",
      "      dtype='object')\n"
     ]
    }
   ],
   "source": [
    "\n",
    "# todo:\n",
    "import pandas as pd\n",
    "\n",
    "num_series = pd.Series([1, 2, 3, 4, 5])\n",
    "\n",
    "print(num_series)\n",
    "\n",
    "#? Diccionario de los paises con sus capitales\n",
    "diccionario_paises = {\n",
    "    'Argentina': 'Buenos Aires',\n",
    "    'Colombia': 'Bogotá',\n",
    "    'Chile': 'Santiago',\n",
    "    'Perú': 'Lima',\n",
    "    'Venezuela': 'Caracas',\n",
    "    'Paraguay': 'Asunción',\n",
    "    'Uruguay': 'Montevideo',\n",
    "    'Bolivia': 'Sucre',\n",
    "    'Ecuador': 'Quito',\n",
    "    'Brasil': 'Brasilia',\n",
    "}\n",
    "\n",
    "#? Convertir el diccionario a una serie de pandas\n",
    "dic_paises_serie = pd.Series(diccionario_paises)\n",
    "\n",
    "print(dic_paises_serie)"
   ]
  },
  {
   "cell_type": "markdown",
   "id": "0c239195",
   "metadata": {},
   "source": [
    "### **Actividad 2:** \n",
    "Acceso y selección de elementos.\n",
    "* Usa una Series con tareas (que haceres cotidianos) de una semana\n",
    "* Accede a diferentes elementos a elección.\n",
    "* Cambia los valores de los dias pares.\n"
   ]
  },
  {
   "cell_type": "code",
   "execution_count": null,
   "id": "3611d25a",
   "metadata": {},
   "outputs": [
    {
     "name": "stdout",
     "output_type": "stream",
     "text": [
      "Lunes                      Compras, estudiar, gimnasio\n",
      "Martes       Trabajar,Limpiar el baño, salir a caminar\n",
      "Miercoles           Estudiar,limpiar el baño, gimnasio\n",
      "Jueves            Limpiar las habitaciones, ir al cine\n",
      "Viernes                             Estudiar, gimnasio\n",
      "Sabado       Limpiarlas habitaciones, salir a merendar\n",
      "Domingo                     Descanso, salir con amigos\n",
      "dtype: object\n"
     ]
    }
   ],
   "source": [
    "\n",
    "# todo:\n",
    "#? Serie con actividades de la semana\n",
    "act_semana = {\n",
    "    'Lunes': 'Compras, estudiar, gimnasio',\n",
    "    'Martes': 'Trabajar, estudiar, Limpiar la cocina',\n",
    "    'Miercoles': 'Estudiar,limpiar el baño, gimnasio',\n",
    "    'Jueves': 'Trabajar, estudiar',\n",
    "    'Viernes': 'Estudiar, gimnasio',\n",
    "    'Sabado': 'Limpiar las habitaciones, salir con amigos',\n",
    "    'Domingo': 'Descanso, salir con amigos',\n",
    "}\n",
    "\n",
    "#?Convertir en serie el diccionario\n",
    "act_semana_serie = pd.Series(act_semana)\n",
    "\n",
    "#? Cambiar los valores en los dias pares\n",
    "act_semana_serie['Martes'] = 'Trabajar,Limpiar el baño, salir a caminar'\n",
    "act_semana_serie['Jueves'] = 'Limpiar las habitaciones, ir al cine'\n",
    "act_semana_serie['Sabado'] = 'Limpiarlas habitaciones, salir a merendar'\n",
    "\n",
    "print(act_semana_serie)"
   ]
  },
  {
   "cell_type": "markdown",
   "id": "70a24b97",
   "metadata": {},
   "source": [
    "### **Actividad 3:**\n",
    "Operaciones aritméticas. \n",
    "* Realiza las operaciones basicas con 2 series cuales quieran.\n",
    "* Eleva los valores de la primer serie a 3 potencias difetentes."
   ]
  },
  {
   "cell_type": "code",
   "execution_count": 12,
   "id": "a9c8ebc7",
   "metadata": {},
   "outputs": [
    {
     "name": "stdout",
     "output_type": "stream",
     "text": [
      "\n",
      "      Los resultados de las operaciones son:\n",
      "        Suma: \n",
      "        0     5\n",
      "1     7\n",
      "2    10\n",
      "3    23\n",
      "4    35\n",
      "dtype: int64\n",
      "        Resta: \n",
      "        0     1\n",
      "1     1\n",
      "2     6\n",
      "3    -5\n",
      "4    33\n",
      "dtype: int64\n",
      "        Multiplicacion: \n",
      "        0      6\n",
      "1     12\n",
      "2     16\n",
      "3    126\n",
      "4     34\n",
      "dtype: int64\n",
      "        Division: \n",
      "        0     1.500000\n",
      "1     1.333333\n",
      "2     4.000000\n",
      "3     0.642857\n",
      "4    34.000000\n",
      "dtype: float64\n",
      "      \n",
      "\n",
      "      Potenciacion de la primera serie:\n",
      "        Potencia 2: \n",
      "        0       9\n",
      "1      16\n",
      "2      64\n",
      "3      81\n",
      "4    1156\n",
      "dtype: int64\n",
      "        Potencia 3: \n",
      "        0       27\n",
      "1       64\n",
      "2      512\n",
      "3      729\n",
      "4    39304\n",
      "dtype: int64\n",
      "        Potencia 4: \n",
      "        0         81\n",
      "1        256\n",
      "2       4096\n",
      "3       6561\n",
      "4    1336336\n",
      "dtype: int64\n",
      "      \n"
     ]
    }
   ],
   "source": [
    "\n",
    "# todo:\n",
    "#? Series\n",
    "valores_1 = pd.Series([3,4,8,9,34])\n",
    "valores_2 = pd.Series([2,3,2,14,1])\n",
    "\n",
    "#? Op basicas\n",
    "sum = valores_1 + valores_2\n",
    "resta = valores_1 - valores_2\n",
    "multiplicacion = valores_1 * valores_2\n",
    "division = valores_1 / valores_2\n",
    "\n",
    "print(f'''\n",
    "      Los resultados de las operaciones son:\n",
    "        Suma: \n",
    "        {sum}\n",
    "        Resta: \n",
    "        {resta}\n",
    "        Multiplicacion: \n",
    "        {multiplicacion}\n",
    "        Division: \n",
    "        {division}\n",
    "      ''')\n",
    "\n",
    "#? Potenciacion a la primera serie\n",
    "\n",
    "potencia_1 = valores_1 ** 2\n",
    "potencia_2 = valores_1 ** 3\n",
    "potencia_3 = valores_1 ** 4\n",
    "\n",
    "print(f'''\n",
    "      Potenciacion de la primera serie:\n",
    "        Potencia 2: \n",
    "        {potencia_1}\n",
    "        Potencia 3: \n",
    "        {potencia_2}\n",
    "        Potencia 4: \n",
    "        {potencia_3}\n",
    "      ''')\n"
   ]
  },
  {
   "cell_type": "markdown",
   "id": "b8dac397",
   "metadata": {},
   "source": [
    "### **Actividad 4:** \n",
    "Filtrado con condiciones.\n",
    "* Crea una Series de edades de 10 personas.\n",
    "* Muestra solo a los mayores de 18.\n",
    "* Reemplaza a los menores por \"Menor de edad\"."
   ]
  },
  {
   "cell_type": "code",
   "execution_count": null,
   "id": "d04fd492",
   "metadata": {},
   "outputs": [
    {
     "name": "stdout",
     "output_type": "stream",
     "text": [
      "\n",
      "      Edad permitida:\n",
      "        1    23\n",
      "2    75\n",
      "3    45\n",
      "5    18\n",
      "6    29\n",
      "9    70\n",
      "dtype: object      \n",
      "0    menor de edad\n",
      "1               23\n",
      "2               75\n",
      "3               45\n",
      "4    menor de edad\n",
      "5               18\n",
      "6               29\n",
      "7    menor de edad\n",
      "8    menor de edad\n",
      "9               70\n",
      "dtype: object\n"
     ]
    }
   ],
   "source": [
    "\n",
    "# todo:\n",
    "\n",
    "#? Series de edades\n",
    "edad_serie = pd.Series([16, 23, 75, 45, 2, 18, 29, 13, 6, 70])\n",
    "\n",
    "\n",
    "#? Convertir a object para admitir strings\n",
    "edad_serie = edad_serie.astype(object)\n",
    "\n",
    "#? Filtrar por edad\n",
    "mayor_edad = edad_serie[edad_serie >=18]\n",
    "print(f'''\n",
    "      Edad permitida:\n",
    "        {mayor_edad}      ''')\n",
    "\n",
    "#? Editar menores de edad\n",
    "menores_edad = edad_serie[edad_serie < 18]\n",
    "edad_serie[menores_edad.index]= 'menor de edad'\n",
    "\n",
    "print(edad_serie)"
   ]
  },
  {
   "cell_type": "markdown",
   "id": "8889d0f2",
   "metadata": {},
   "source": [
    "### Actividad 5:\n",
    "Estadísticas básicas.\n",
    "\n",
    "* Crea una Series con las notas de 10 estudiantes.\n",
    "* Calcula la media, mediana, desviación estándar y máximo.\n",
    "* Muestra cuántos estudiantes aprobaron si el mínimo para aprobar es 6.\n",
    "* Ordenar las notas de manera ascendente y descendente. "
   ]
  },
  {
   "cell_type": "code",
   "execution_count": null,
   "id": "bc0ec844",
   "metadata": {},
   "outputs": [],
   "source": [
    "\n",
    "# todo:\n"
   ]
  }
 ],
 "metadata": {
  "kernelspec": {
   "display_name": ".venv",
   "language": "python",
   "name": "python3"
  },
  "language_info": {
   "codemirror_mode": {
    "name": "ipython",
    "version": 3
   },
   "file_extension": ".py",
   "mimetype": "text/x-python",
   "name": "python",
   "nbconvert_exporter": "python",
   "pygments_lexer": "ipython3",
   "version": "3.11.9"
  }
 },
 "nbformat": 4,
 "nbformat_minor": 5
}
